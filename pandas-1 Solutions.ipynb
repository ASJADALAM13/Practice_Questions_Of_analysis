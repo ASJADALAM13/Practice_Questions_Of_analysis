{
 "cells": [
  {
   "cell_type": "code",
   "execution_count": 3,
   "id": "ca6a0433-86d5-47e2-a1c5-bdc78eac9b72",
   "metadata": {},
   "outputs": [],
   "source": [
    "import pandas as pd"
   ]
  },
  {
   "cell_type": "code",
   "execution_count": 11,
   "id": "fe9b465d-ca18-4da0-bdcb-e37cb13d7c34",
   "metadata": {},
   "outputs": [
    {
     "name": "stdout",
     "output_type": "stream",
     "text": [
      "a     4\n",
      "b     8\n",
      "c    15\n",
      "d    16\n",
      "e    23\n",
      "f    42\n",
      "dtype: int64\n"
     ]
    }
   ],
   "source": [
    "#1.\n",
    "data={\"a\":4, \"b\":8, \"c\":15, \"d\":16, \"e\":23,\"f\":42}\n",
    "ser=pd.Series(data)\n",
    "print(ser)"
   ]
  },
  {
   "cell_type": "code",
   "execution_count": 13,
   "id": "25cfd8bf-36c6-4e03-941f-bc60198a13e6",
   "metadata": {},
   "outputs": [
    {
     "name": "stdout",
     "output_type": "stream",
     "text": [
      "0     4\n",
      "1     5\n",
      "2     6\n",
      "3     7\n",
      "4     8\n",
      "5     9\n",
      "6    10\n",
      "7    11\n",
      "8    12\n",
      "dtype: int64\n"
     ]
    }
   ],
   "source": [
    "#2.\n",
    "data2=[i+3 for i in range(1,10,1)]\n",
    "ser2=pd.Series(data2)\n",
    "print(ser2)"
   ]
  },
  {
   "cell_type": "code",
   "execution_count": 17,
   "id": "ea0b2c98-2709-424a-aa1a-89750bcf1b2f",
   "metadata": {},
   "outputs": [
    {
     "name": "stdout",
     "output_type": "stream",
     "text": [
      "     Name  Age  Gender\n",
      "0   Alice   25  Female\n",
      "1     Bob   30    Male\n",
      "2  Claire   27  Female\n"
     ]
    }
   ],
   "source": [
    "#3.\n",
    "dat3={\"Name\":[\"Alice\",\"Bob\",\"Claire\"],\"Age\":[25,30,27],\"Gender\":[\"Female\",\"Male\",\"Female\"]}\n",
    "df=pd.DataFrame(dat3)\n",
    "print(df)"
   ]
  },
  {
   "cell_type": "code",
   "execution_count": 19,
   "id": "99c36961-082f-4796-8d99-e93a33b5e22b",
   "metadata": {},
   "outputs": [
    {
     "data": {
      "text/plain": [
       "'Data-Frame is a two dimensional Table with  labeled rows and columns  like a excel sheet,and series is a one-dimensional labelled array like a list'"
      ]
     },
     "execution_count": 19,
     "metadata": {},
     "output_type": "execute_result"
    }
   ],
   "source": [
    "#4.\n",
    "\"\"\"Data-Frame is a two dimensional Table with  labeled rows and columns  like a excel sheet,and series is a one-dimensional labelled array like a list\"\"\""
   ]
  },
  {
   "cell_type": "code",
   "execution_count": 21,
   "id": "70d40e2c-e4fb-44ca-9948-9693809479a0",
   "metadata": {},
   "outputs": [
    {
     "data": {
      "text/plain": [
       "' 1.df=pd.read_csv(\\'data.csv\\') #To read an csv file\\n    2.df[\\'column_name\\']#to select a column\\n    3.df.head() #to show first 5 rows of a data frame\\n    4.df.drop(\"column\\'s names\") #dropping columns'"
      ]
     },
     "execution_count": 21,
     "metadata": {},
     "output_type": "execute_result"
    }
   ],
   "source": [
    "#5\n",
    "\n",
    "\"\"\" 1.df=pd.read_csv('data.csv') #To read an csv file\n",
    "    2.df['column_name']#to select a column\n",
    "    3.df.head() #to show first 5 rows of a data frame\n",
    "    4.df.drop(\"column's names\") #dropping columns\"\"\""
   ]
  },
  {
   "cell_type": "code",
   "execution_count": 25,
   "id": "9ee13ebb-ab67-4276-9890-3cc5764df6c2",
   "metadata": {},
   "outputs": [
    {
     "data": {
      "text/plain": [
       "'A Panel was a three-dimensional data structure used for handling multi-dimensional data.\\nSince Pandas 1.0.0, Panel has been removed, and MultiIndex DataFrames or xarray are recommended instead.\\n\\nSeries: Mutable\\nDataFrame:  Mutable\\nPanel:  Mutable'"
      ]
     },
     "execution_count": 25,
     "metadata": {},
     "output_type": "execute_result"
    }
   ],
   "source": [
    "#6.\n",
    "\"\"\"A Panel was a three-dimensional data structure used for handling multi-dimensional data.\n",
    "Since Pandas 1.0.0, Panel has been removed, and MultiIndex DataFrames or xarray are recommended instead.\n",
    "\n",
    "Series: Mutable\n",
    "DataFrame:  Mutable\n",
    "Panel:  Mutable\"\"\""
   ]
  },
  {
   "cell_type": "code",
   "execution_count": 37,
   "id": "cd2f1fa1-1704-466b-9aed-2c9f1ff1b4d6",
   "metadata": {},
   "outputs": [
    {
     "name": "stdout",
     "output_type": "stream",
     "text": [
      "  C1  C2   C3\n",
      "0  A  57   83\n",
      "1  F  62   88\n",
      "2  K  67   93\n",
      "3  P  72   98\n",
      "4  U  77  103\n"
     ]
    }
   ],
   "source": [
    "#7.\n",
    "data1=pd.Series([chr(i) for i in range(65,90,5)])\n",
    "data2=pd.Series([i-8 for i in range(65,90,5)])\n",
    "data3=pd.Series([i+18 for i in range(65,90,5)])\n",
    "\n",
    "df7=pd.DataFrame({\"C1\":data1,\"C2\":data2,\"C3\":data3})\n",
    "print(df7)"
   ]
  },
  {
   "cell_type": "code",
   "execution_count": null,
   "id": "e85c2fb4-dfed-4c5c-a9de-3ed02ea3a502",
   "metadata": {},
   "outputs": [],
   "source": []
  }
 ],
 "metadata": {
  "kernelspec": {
   "display_name": "Python 3 (ipykernel)",
   "language": "python",
   "name": "python3"
  },
  "language_info": {
   "codemirror_mode": {
    "name": "ipython",
    "version": 3
   },
   "file_extension": ".py",
   "mimetype": "text/x-python",
   "name": "python",
   "nbconvert_exporter": "python",
   "pygments_lexer": "ipython3",
   "version": "3.12.4"
  }
 },
 "nbformat": 4,
 "nbformat_minor": 5
}
